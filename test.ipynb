{
 "cells": [
  {
   "cell_type": "markdown",
   "source": [
    "-------------\n",
    "\n",
    "# Testing Jupyter"
   ],
   "metadata": {
    "collapsed": false,
    "pycharm": {
     "name": "#%% md\n"
    }
   }
  },
  {
   "cell_type": "code",
   "execution_count": 11,
   "outputs": [
    {
     "name": "stdout",
     "output_type": "stream",
     "text": [
      "Collecting torchvision\n",
      "  Using cached torchvision-0.13.0-cp310-cp310-win_amd64.whl (1.1 MB)\n",
      "Requirement already satisfied: typing-extensions in c:\\users\\cachemarra\\anaconda3\\envs\\pytorch\\lib\\site-packages (from torchvision) (4.1.1)\n",
      "Collecting requests\n",
      "  Using cached requests-2.28.1-py3-none-any.whl (62 kB)\n",
      "Collecting torch==1.12.0\n",
      "  Using cached torch-1.12.0-cp310-cp310-win_amd64.whl (162.3 MB)\n",
      "Requirement already satisfied: pillow!=8.3.*,>=5.3.0 in c:\\users\\cachemarra\\anaconda3\\envs\\pytorch\\lib\\site-packages (from torchvision) (9.2.0)\n",
      "Requirement already satisfied: numpy in c:\\users\\cachemarra\\anaconda3\\envs\\pytorch\\lib\\site-packages (from torchvision) (1.22.3)\n",
      "Requirement already satisfied: certifi>=2017.4.17 in c:\\users\\cachemarra\\anaconda3\\envs\\pytorch\\lib\\site-packages (from requests->torchvision) (2022.6.15)\n",
      "Collecting urllib3<1.27,>=1.21.1\n",
      "  Using cached urllib3-1.26.11-py2.py3-none-any.whl (139 kB)\n",
      "Collecting idna<4,>=2.5\n",
      "  Using cached idna-3.3-py3-none-any.whl (61 kB)\n",
      "Collecting charset-normalizer<3,>=2\n",
      "  Using cached charset_normalizer-2.1.0-py3-none-any.whl (39 kB)\n",
      "Installing collected packages: urllib3, torch, idna, charset-normalizer, requests, torchvision\n",
      "  Attempting uninstall: torch\n",
      "    Found existing installation: torch 1.10.2\n",
      "    Uninstalling torch-1.10.2:\n",
      "      Successfully uninstalled torch-1.10.2\n",
      "Successfully installed charset-normalizer-2.1.0 idna-3.3 requests-2.28.1 torch-1.12.0 torchvision-0.13.0 urllib3-1.26.11\n",
      "Requirement already satisfied: torchvision in c:\\users\\cachemarra\\anaconda3\\envs\\pytorch\\lib\\site-packages (0.13.0)\n",
      "Requirement already satisfied: pillow!=8.3.*,>=5.3.0 in c:\\users\\cachemarra\\anaconda3\\envs\\pytorch\\lib\\site-packages (from torchvision) (9.2.0)\n",
      "Requirement already satisfied: torch==1.12.0 in c:\\users\\cachemarra\\anaconda3\\envs\\pytorch\\lib\\site-packages (from torchvision) (1.12.0)\n",
      "Requirement already satisfied: numpy in c:\\users\\cachemarra\\anaconda3\\envs\\pytorch\\lib\\site-packages (from torchvision) (1.22.3)\n",
      "Requirement already satisfied: typing-extensions in c:\\users\\cachemarra\\anaconda3\\envs\\pytorch\\lib\\site-packages (from torchvision) (4.1.1)\n",
      "Requirement already satisfied: requests in c:\\users\\cachemarra\\anaconda3\\envs\\pytorch\\lib\\site-packages (from torchvision) (2.28.1)\n",
      "Requirement already satisfied: urllib3<1.27,>=1.21.1 in c:\\users\\cachemarra\\anaconda3\\envs\\pytorch\\lib\\site-packages (from requests->torchvision) (1.26.11)\n",
      "Requirement already satisfied: certifi>=2017.4.17 in c:\\users\\cachemarra\\anaconda3\\envs\\pytorch\\lib\\site-packages (from requests->torchvision) (2022.6.15)\n",
      "Requirement already satisfied: charset-normalizer<3,>=2 in c:\\users\\cachemarra\\anaconda3\\envs\\pytorch\\lib\\site-packages (from requests->torchvision) (2.1.0)\n",
      "Requirement already satisfied: idna<4,>=2.5 in c:\\users\\cachemarra\\anaconda3\\envs\\pytorch\\lib\\site-packages (from requests->torchvision) (3.3)\n"
     ]
    }
   ],
   "source": [
    "# Install pytorch\n",
    "!pip install torchvision"
   ],
   "metadata": {
    "collapsed": false,
    "pycharm": {
     "name": "#%%\n"
    }
   }
  },
  {
   "cell_type": "code",
   "execution_count": 14,
   "outputs": [
    {
     "data": {
      "text/plain": "tensor([[3.1000e+01, 1.0000e+00, 1.9870e+03],\n        [2.6000e+01, 8.0000e+00, 1.9870e+03]])"
     },
     "execution_count": 14,
     "metadata": {},
     "output_type": "execute_result"
    }
   ],
   "source": [
    "import torchvision\n",
    "import torch\n",
    "torchvision.__version__\n",
    "\n",
    "torch.FloatTensor([[31, 1, 1987], [26, 8, 1987]])\n"
   ],
   "metadata": {
    "collapsed": false,
    "pycharm": {
     "name": "#%%\n"
    }
   }
  },
  {
   "cell_type": "code",
   "execution_count": 1,
   "outputs": [
    {
     "name": "stdout",
     "output_type": "stream",
     "text": [
      "Hola Mundo\n"
     ]
    }
   ],
   "source": [
    "# %% Test 2\n",
    "print('Hola Mundo')\n"
   ],
   "metadata": {
    "collapsed": false,
    "pycharm": {
     "name": "#%%\n"
    }
   }
  },
  {
   "cell_type": "code",
   "execution_count": 9,
   "metadata": {
    "collapsed": true,
    "pycharm": {
     "name": "#%%\n"
    }
   },
   "outputs": [
    {
     "data": {
      "text/plain": "<Figure size 432x288 with 1 Axes>",
      "image/png": "[encoded data removed]"
     },
     "metadata": {
      "needs_background": "light"
     },
     "output_type": "display_data"
    }
   ],
   "source": [
    "import numpy as np\n",
    "import matplotlib.pyplot as plt\n",
    "\n",
    "# Plot a Gaussian distribution just to see if it works\n",
    "mu = 0\n",
    "sigma = 0.1\n",
    "numbers = np.random.normal(0, 0.1, 1_000)\n",
    "\n",
    "# Creating an histogram\n",
    "fig = plt.figure()\n",
    "\n",
    "count, bins, _ = plt.hist(numbers, 30, density=True)\n",
    "plt.plot(bins, 1/(sigma * np.sqrt(2 * np.pi)) * np.exp(-(bins - mu)**2 / (2 * sigma**2)),\n",
    "         linewidth=2, color='g'\n",
    "         )\n",
    "\n",
    "plt.show()\n"
   ]
  },
  {
   "cell_type": "code",
   "execution_count": null,
   "outputs": [],
   "source": [],
   "metadata": {
    "collapsed": false,
    "pycharm": {
     "name": "#%%\n"
    }
   }
  }
 ],
 "metadata": {
  "kernelspec": {
   "display_name": "Python 3",
   "language": "python",
   "name": "python3"
  },
  "language_info": {
   "codemirror_mode": {
    "name": "ipython",
    "version": 2
   },
   "file_extension": ".py",
   "mimetype": "text/x-python",
   "name": "python",
   "nbconvert_exporter": "python",
   "pygments_lexer": "ipython2",
   "version": "2.7.6"
  }
 },
 "nbformat": 4,
 "nbformat_minor": 0
}